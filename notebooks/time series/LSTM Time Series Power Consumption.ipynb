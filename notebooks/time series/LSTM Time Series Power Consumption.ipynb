{
 "cells": [
  {
   "cell_type": "markdown",
   "metadata": {},
   "source": [
    "# Info\n",
    "The notebook downloaded from https://github.com/susanli2016/Machine-Learning-with-Python/blob/master/LSTM%20Time%20Series%20Power%20Consumption.ipynb"
   ]
  },
  {
   "cell_type": "code",
   "execution_count": null,
   "metadata": {
    "ExecuteTime": {
     "end_time": "2019-12-12T20:53:46.097284Z",
     "start_time": "2019-12-12T20:53:33.914631Z"
    }
   },
   "outputs": [],
   "source": [
    "import numpy as np\n",
    "import matplotlib.pyplot as plt\n",
    "import pandas as pd\n",
    "pd.set_option('display.float_format', lambda x: '%.4f' % x)\n",
    "import seaborn as sns\n",
    "sns.set_context(\"paper\", font_scale=1.3)\n",
    "sns.set_style('white')\n",
    "import warnings\n",
    "warnings.filterwarnings('ignore')\n",
    "from time import time\n",
    "import matplotlib.ticker as tkr\n",
    "from scipy import stats\n",
    "from statsmodels.tsa.stattools import adfuller\n",
    "from sklearn import preprocessing\n",
    "from statsmodels.tsa.stattools import pacf\n",
    "%matplotlib inline\n",
    "\n",
    "import math\n",
    "import keras\n",
    "from keras.models import Sequential\n",
    "from keras.layers import Dense\n",
    "from keras.layers import LSTM\n",
    "from keras.layers import Dropout\n",
    "from keras.layers import *\n",
    "from sklearn.preprocessing import MinMaxScaler\n",
    "from sklearn.metrics import mean_squared_error\n",
    "from sklearn.metrics import mean_absolute_error\n",
    "from keras.callbacks import EarlyStopping"
   ]
  },
  {
   "cell_type": "markdown",
   "metadata": {},
   "source": [
    "The data is the measurements of electric power consumption in one household with a one-minute sampling rate over a period of almost 4 years. Different electrical quantities and some sub-metering values are available. However, we are only interested in Global_active_power variable. "
   ]
  },
  {
   "cell_type": "code",
   "execution_count": null,
   "metadata": {
    "ExecuteTime": {
     "end_time": "2019-12-12T20:54:37.899803Z",
     "start_time": "2019-12-12T20:54:35.550663Z"
    }
   },
   "outputs": [],
   "source": [
    "df=pd.read_csv('../../data/household_power_consumption.txt', delimiter=';')\n",
    "print('Number of rows and columns:', df.shape)\n",
    "df.head(5)"
   ]
  },
  {
   "cell_type": "markdown",
   "metadata": {},
   "source": [
    "Approx 1.2% of value in Global_active_power column are missing, it is not a big deal, I decided to remove them."
   ]
  },
  {
   "cell_type": "code",
   "execution_count": null,
   "metadata": {},
   "outputs": [],
   "source": [
    "df['date_time'] = pd.to_datetime(df['Date'] + ' ' + df['Time'])\n",
    "df['Global_active_power'] = pd.to_numeric(df['Global_active_power'], errors='coerce')\n",
    "df = df.dropna(subset=['Global_active_power'])\n",
    "df['date_time']=pd.to_datetime(df['date_time']) \n",
    "df['year'] = df['date_time'].apply(lambda x: x.year)\n",
    "df['quarter'] = df['date_time'].apply(lambda x: x.quarter)\n",
    "df['month'] = df['date_time'].apply(lambda x: x.month)\n",
    "df['day'] = df['date_time'].apply(lambda x: x.day)\n",
    "df=df.loc[:,['date_time','Global_active_power', 'year','quarter','month','day']]\n",
    "df.sort_values('date_time', inplace=True, ascending=True)\n",
    "df = df.reset_index(drop=True)\n",
    "df[\"weekday\"]=df.apply(lambda row: row[\"date_time\"].weekday(),axis=1)\n",
    "df[\"weekday\"] = (df[\"weekday\"] < 5).astype(int)\n",
    "print(df.shape)\n",
    "print(df.date_time.min())\n",
    "print(df.date_time.max())\n",
    "df.tail(5)"
   ]
  },
  {
   "cell_type": "code",
   "execution_count": null,
   "metadata": {},
   "outputs": [],
   "source": [
    "print('Number of rows and columns after removing missing values:', df.shape)\n",
    "print('The time series starts from: ', df.date_time.min())\n",
    "print('The time series ends on: ', df.date_time.max())"
   ]
  },
  {
   "cell_type": "markdown",
   "metadata": {},
   "source": [
    "After removing the missing values, the data contains 2049280 measurements gathered between December 2006 and November 2010 (47 months).\n",
    "\n",
    "The initial data contains several variables. We will here focus on a single value : a house's Global_active_power history, that is, household global minute-averaged active power in kilowatt."
   ]
  },
  {
   "cell_type": "markdown",
   "metadata": {},
   "source": [
    "### Statistical Normality Test\n",
    "\n",
    "There are several statistical tests that we can use to quantify whether our data looks as though it was drawn from a Gaussian distribution. And we will use D’Agostino’s K^2 Test.\n",
    "\n",
    "In the SciPy implementation of the test, we will interpret the p value as follows.\n",
    "\n",
    "* p <= alpha: reject H0, not normal.\n",
    "* p > alpha: fail to reject H0, normal."
   ]
  },
  {
   "cell_type": "code",
   "execution_count": null,
   "metadata": {},
   "outputs": [],
   "source": [
    "stat, p = stats.normaltest(df.Global_active_power)\n",
    "print('Statistics=%.3f, p=%.3f' % (stat, p))\n",
    "alpha = 0.05\n",
    "if p > alpha:\n",
    "    print('Data looks Gaussian (fail to reject H0)')\n",
    "else:\n",
    "    print('Data does not look Gaussian (reject H0)')"
   ]
  },
  {
   "cell_type": "markdown",
   "metadata": {},
   "source": [
    "We can also calculate kurtosis and skewness, to determine if the data distribution departs from the normal distribution."
   ]
  },
  {
   "cell_type": "code",
   "execution_count": null,
   "metadata": {},
   "outputs": [],
   "source": [
    "# print(df.Global_active_power.describe())\n",
    "sns.distplot(df.Global_active_power);\n",
    "print( 'Kurtosis of normal distribution: {}'.format(stats.kurtosis(df.Global_active_power)))\n",
    "print( 'Skewness of normal distribution: {}'.format(stats.skew(df.Global_active_power)))"
   ]
  },
  {
   "cell_type": "markdown",
   "metadata": {},
   "source": [
    "KURTOSIS: describes heaviness of the tails of a distribution\n",
    "\n",
    "Normal Distribution has a kurtosis of close to 0.  If the kurtosis is greater than zero, then distribution has heavier tails. If the kurtosis is less than zero, then the distribution is light tails. And our Kurtosis is greater than zero. \n",
    "\n",
    "SKEWNESS:\n",
    "\n",
    "If the skewness is between -0.5 and 0.5, the data are fairly symmetrical. If the skewness is between -1 and – 0.5 or between 0.5 and 1, the data are moderately skewed. If the skewness is less than -1 or greater than 1, the data are highly skewed. And our skewness is greater than 1."
   ]
  },
  {
   "cell_type": "markdown",
   "metadata": {},
   "source": [
    "### First Time series plot"
   ]
  },
  {
   "cell_type": "code",
   "execution_count": null,
   "metadata": {},
   "outputs": [],
   "source": [
    "df1=df.loc[:,['date_time','Global_active_power']]\n",
    "df1.set_index('date_time',inplace=True)\n",
    "df1.plot(figsize=(12,5))\n",
    "plt.ylabel('Global active power')\n",
    "plt.legend().set_visible(False)\n",
    "plt.tight_layout()\n",
    "plt.title('Global Active Power Time Series')\n",
    "sns.despine(top=True)\n",
    "plt.show();"
   ]
  },
  {
   "cell_type": "markdown",
   "metadata": {},
   "source": [
    "Apparently, this plot is not a good idea. Don't do this."
   ]
  },
  {
   "cell_type": "code",
   "execution_count": null,
   "metadata": {},
   "outputs": [],
   "source": [
    "df2=df1[(df1.index>='2010-07-01') & (df1.index<'2010-7-16')]\n",
    "df2.plot(figsize=(12,5));\n",
    "plt.ylabel('Global active power')\n",
    "plt.legend().set_visible(False)\n",
    "plt.tight_layout()\n",
    "sns.despine(top=True)\n",
    "plt.show();"
   ]
  },
  {
   "cell_type": "markdown",
   "metadata": {},
   "source": [
    "### Box plot of yearly vs. quarterly Global active power"
   ]
  },
  {
   "cell_type": "code",
   "execution_count": null,
   "metadata": {},
   "outputs": [],
   "source": [
    "plt.figure(figsize=(14,5))\n",
    "plt.subplot(1,2,1)\n",
    "plt.subplots_adjust(wspace=0.2)\n",
    "sns.boxplot(x=\"year\", y=\"Global_active_power\", data=df)\n",
    "plt.xlabel('year')\n",
    "plt.title('Box plot of Yearly Global Active Power')\n",
    "sns.despine(left=True)\n",
    "plt.tight_layout() \n",
    "\n",
    "plt.subplot(1,2,2)\n",
    "sns.boxplot(x=\"quarter\", y=\"Global_active_power\", data=df)\n",
    "plt.xlabel('quarter')\n",
    "plt.title('Box plot of Quarterly Global Active Power')\n",
    "sns.despine(left=True)\n",
    "plt.tight_layout();"
   ]
  },
  {
   "cell_type": "markdown",
   "metadata": {},
   "source": [
    "When we compare boxplot side by side for each year, we notice that the median global active power in 2006 is much higher than the other years'. This is a little bit misleading. If you remember, we only have December data for 2006. While apparently December is the peak month for household electric power consumption. \n",
    "\n",
    "This is consistent with the quarterly median global active power, it is higher in the 1st and 4th quarters (winter), and it is the lowest in the 3rd quarter (summer)."
   ]
  },
  {
   "cell_type": "markdown",
   "metadata": {},
   "source": [
    "### Global Active Power Distribution"
   ]
  },
  {
   "cell_type": "code",
   "execution_count": null,
   "metadata": {
    "scrolled": false
   },
   "outputs": [],
   "source": [
    "plt.figure(figsize=(14,6))\n",
    "plt.subplot(1,2,1)\n",
    "df['Global_active_power'].hist(bins=50)\n",
    "plt.title('Global Active Power Distribution')\n",
    "\n",
    "plt.subplot(1,2,2)\n",
    "stats.probplot(df['Global_active_power'], plot=plt);\n",
    "df1.describe().T"
   ]
  },
  {
   "cell_type": "markdown",
   "metadata": {},
   "source": [
    "Normal probability plot also shows the data set is far from normally distributed."
   ]
  },
  {
   "cell_type": "markdown",
   "metadata": {},
   "source": [
    "### Average Global Active Power resampled over day, week, month, quarter and year."
   ]
  },
  {
   "cell_type": "code",
   "execution_count": null,
   "metadata": {},
   "outputs": [],
   "source": [
    "fig = plt.figure(figsize=(18,16))\n",
    "fig.subplots_adjust(hspace=.4)\n",
    "ax1 = fig.add_subplot(5,1,1)\n",
    "ax1.plot(df1['Global_active_power'].resample('D').mean(),linewidth=1)\n",
    "ax1.set_title('Mean Global active power resampled over day')\n",
    "ax1.tick_params(axis='both', which='major')\n",
    "\n",
    "ax2 = fig.add_subplot(5,1,2, sharex=ax1)\n",
    "ax2.plot(df1['Global_active_power'].resample('W').mean(),linewidth=1)\n",
    "ax2.set_title('Mean Global active power resampled over week')\n",
    "ax2.tick_params(axis='both', which='major')\n",
    "\n",
    "ax3 = fig.add_subplot(5,1,3, sharex=ax1)\n",
    "ax3.plot(df1['Global_active_power'].resample('M').mean(),linewidth=1)\n",
    "ax3.set_title('Mean Global active power resampled over month')\n",
    "ax3.tick_params(axis='both', which='major')\n",
    "\n",
    "ax4  = fig.add_subplot(5,1,4, sharex=ax1)\n",
    "ax4.plot(df1['Global_active_power'].resample('Q').mean(),linewidth=1)\n",
    "ax4.set_title('Mean Global active power resampled over quarter')\n",
    "ax4.tick_params(axis='both', which='major')\n",
    "\n",
    "ax5  = fig.add_subplot(5,1,5, sharex=ax1)\n",
    "ax5.plot(df1['Global_active_power'].resample('A').mean(),linewidth=1)\n",
    "ax5.set_title('Mean Global active power resampled over year')\n",
    "ax5.tick_params(axis='both', which='major');"
   ]
  },
  {
   "cell_type": "markdown",
   "metadata": {},
   "source": [
    "In general, our time series does not have a general upward or downward trend. The highest average power consumption was prior to 2007, it decreased significantly in one year until early 2008, and has been steady since then."
   ]
  },
  {
   "cell_type": "markdown",
   "metadata": {},
   "source": [
    "### Plot mean global active power grouped by year, quarter, month and day."
   ]
  },
  {
   "cell_type": "code",
   "execution_count": null,
   "metadata": {},
   "outputs": [],
   "source": [
    "plt.figure(figsize=(14,8))\n",
    "plt.subplot(2,2,1)\n",
    "df.groupby('year').Global_active_power.agg('mean').plot()\n",
    "plt.xlabel('')\n",
    "plt.title('Mean Global active power by Year')\n",
    "\n",
    "plt.subplot(2,2,2)\n",
    "df.groupby('quarter').Global_active_power.agg('mean').plot()\n",
    "plt.xlabel('')\n",
    "plt.title('Mean Global active power by Quarter')\n",
    "\n",
    "plt.subplot(2,2,3)\n",
    "df.groupby('month').Global_active_power.agg('mean').plot()\n",
    "plt.xlabel('')\n",
    "plt.title('Mean Global active power by Month')\n",
    "\n",
    "plt.subplot(2,2,4)\n",
    "df.groupby('day').Global_active_power.agg('mean').plot()\n",
    "plt.xlabel('')\n",
    "plt.title('Mean Global active power by Day');"
   ]
  },
  {
   "cell_type": "markdown",
   "metadata": {},
   "source": [
    "The above plots confirmed our previous discoveries. By year, the highest average power consumption was prior to 2007, and it has been consistent since then. By quarter, the lowest average power consumption was in the 3rd quarter. By month, the lowest average power consumption was in July and August. By day, the lowest average power consumption was around 8th of the month (don't know why). "
   ]
  },
  {
   "cell_type": "markdown",
   "metadata": {},
   "source": [
    "### Global Active Power by Years\n",
    "\n",
    "For 2006, we only have data for December, so remove 2006."
   ]
  },
  {
   "cell_type": "code",
   "execution_count": null,
   "metadata": {},
   "outputs": [],
   "source": [
    "pd.pivot_table(df.loc[df['year'] != 2006], values = \"Global_active_power\", \n",
    "               columns = \"year\", index = \"month\").plot(subplots = True, figsize=(12, 12), layout=(3, 5), sharey=True);"
   ]
  },
  {
   "cell_type": "markdown",
   "metadata": {},
   "source": [
    "### Global active power consumption in Weekdays vs. Weekends"
   ]
  },
  {
   "cell_type": "code",
   "execution_count": null,
   "metadata": {
    "scrolled": true
   },
   "outputs": [],
   "source": [
    "dic={0:'Weekend',1:'Weekday'}\n",
    "df['Day'] = df.weekday.map(dic)\n",
    "\n",
    "a=plt.figure(figsize=(9,4)) \n",
    "plt1=sns.boxplot('year','Global_active_power',hue='Day',width=0.6,fliersize=3,\n",
    "                    data=df)                                                                                                                                                                                                                                                                                                                                                 \n",
    "a.legend(loc='upper center', bbox_to_anchor=(0.5, 1.00), shadow=True, ncol=2)\n",
    "sns.despine(left=True, bottom=True) \n",
    "plt.xlabel('')\n",
    "plt.tight_layout()                                                                                                                  \n",
    "plt.legend().set_visible(False);"
   ]
  },
  {
   "cell_type": "markdown",
   "metadata": {},
   "source": [
    "The median global active power in weekdays seems to be lower than the weekends prior to 2010."
   ]
  },
  {
   "cell_type": "code",
   "execution_count": null,
   "metadata": {},
   "outputs": [],
   "source": [
    "plt1=sns.factorplot('year','Global_active_power',hue='Day',\n",
    "                    data=df, size=4, aspect=1.5, legend=False)                                                                                                                                                                                                                                                                                                                                             \n",
    "plt.title('Factor Plot of Global active power by Weekend/Weekday')                                                             \n",
    "plt.tight_layout()                                                                                                                  \n",
    "sns.despine(left=True, bottom=True) \n",
    "plt.legend(loc='upper right');"
   ]
  },
  {
   "cell_type": "markdown",
   "metadata": {},
   "source": [
    "Both weekdays and weekends have the similar trends over year."
   ]
  },
  {
   "cell_type": "markdown",
   "metadata": {},
   "source": [
    "In principle we do not need to check for stationarity nor correct for it when we are using an LSTM. However, if the data is stationary, it will help with better performance and make it easier for the neural network to learn.\n",
    "\n",
    "### Dickey-Fuller Test to Ceck Stationarity\n",
    "\n",
    "In statistics, the Dickey–Fuller test tests the null hypothesis that a unit root is present in an autoregressive model. The alternative hypothesis is different depending on which version of the test is used, but is usually stationarity or trend-stationarity.\n",
    "\n",
    "Stationary series has constant mean and variance over time. Rolling average and the rolling standard deviation of time series do not change over time.\n",
    "\n",
    "### Dickey-Fuller test\n",
    "\n",
    "Null Hypothesis (H0): It suggests the time series has a unit root, meaning it is non-stationary. It has some time dependent structure.\n",
    "\n",
    "Alternate Hypothesis (H1): It suggests the time series does not have a unit root, meaning it is stationary. It does not have time-dependent structure.\n",
    "\n",
    "p-value > 0.05: Accept the null hypothesis (H0), the data has a unit root and is non-stationary.\n",
    "\n",
    "p-value <= 0.05: Reject the null hypothesis (H0), the data does not have a unit root and is stationary."
   ]
  },
  {
   "cell_type": "code",
   "execution_count": null,
   "metadata": {},
   "outputs": [],
   "source": [
    "df2=df1.resample('D', how=np.mean)\n",
    "\n",
    "def test_stationarity(timeseries):\n",
    "    rolmean = timeseries.rolling(window=30).mean()\n",
    "    rolstd = timeseries.rolling(window=30).std()\n",
    "    \n",
    "    plt.figure(figsize=(14,5))\n",
    "    sns.despine(left=True)\n",
    "    orig = plt.plot(timeseries, color='blue',label='Original')\n",
    "    mean = plt.plot(rolmean, color='red', label='Rolling Mean')\n",
    "    std = plt.plot(rolstd, color='black', label = 'Rolling Std')\n",
    "\n",
    "    plt.legend(loc='best'); plt.title('Rolling Mean & Standard Deviation')\n",
    "    plt.show()\n",
    "    \n",
    "    print ('<Results of Dickey-Fuller Test>')\n",
    "    dftest = adfuller(timeseries, autolag='AIC')\n",
    "    dfoutput = pd.Series(dftest[0:4],\n",
    "                         index=['Test Statistic','p-value','#Lags Used','Number of Observations Used'])\n",
    "    for key,value in dftest[4].items():\n",
    "        dfoutput['Critical Value (%s)'%key] = value\n",
    "    print(dfoutput)"
   ]
  },
  {
   "cell_type": "code",
   "execution_count": null,
   "metadata": {
    "scrolled": false
   },
   "outputs": [],
   "source": [
    "test_stationarity(df2.Global_active_power.dropna())"
   ]
  },
  {
   "cell_type": "markdown",
   "metadata": {},
   "source": [
    "From the above results, we will reject the null hypothesis H0, the data does not have a unit root and is stationary."
   ]
  },
  {
   "cell_type": "markdown",
   "metadata": {},
   "source": [
    "## LSTM\n",
    "\n",
    "The task here will be to predict values for a timeseries given the history of 2 million minutes of a household's power consumption. We are going to use a multi-layered LSTM recurrent neural network to predict the last value of a sequence of values.\n",
    "\n",
    "If you want to reduce the computation time, and also get a quick result to test the model, you may want to resample the data over hour. I will keep it is in minutes."
   ]
  },
  {
   "cell_type": "markdown",
   "metadata": {},
   "source": [
    "Create dataset, normalize the dataset, split into training and test sets, convert an array of values into a dataset matrix"
   ]
  },
  {
   "cell_type": "code",
   "execution_count": null,
   "metadata": {},
   "outputs": [],
   "source": [
    "dataset = df.Global_active_power.values #numpy.ndarray\n",
    "dataset = dataset.astype('float32')\n",
    "dataset = np.reshape(dataset, (-1, 1))\n",
    "scaler = MinMaxScaler(feature_range=(0, 1))\n",
    "dataset = scaler.fit_transform(dataset)\n",
    "train_size = int(len(dataset) * 0.80)\n",
    "test_size = len(dataset) - train_size\n",
    "train, test = dataset[0:train_size,:], dataset[train_size:len(dataset),:]"
   ]
  },
  {
   "cell_type": "code",
   "execution_count": null,
   "metadata": {},
   "outputs": [],
   "source": [
    "# convert an array of values into a dataset matrix\n",
    "def create_dataset(dataset, look_back=1):\n",
    "    X, Y = [], []\n",
    "    for i in range(len(dataset)-look_back-1):\n",
    "        a = dataset[i:(i+look_back), 0]\n",
    "        X.append(a)\n",
    "        Y.append(dataset[i + look_back, 0])\n",
    "    return np.array(X), np.array(Y)"
   ]
  },
  {
   "cell_type": "code",
   "execution_count": null,
   "metadata": {},
   "outputs": [],
   "source": [
    "# reshape into X=t and Y=t+1\n",
    "look_back = 30\n",
    "X_train, Y_train = create_dataset(train, look_back)\n",
    "X_test, Y_test = create_dataset(test, look_back)"
   ]
  },
  {
   "cell_type": "code",
   "execution_count": null,
   "metadata": {},
   "outputs": [],
   "source": [
    "X_train.shape"
   ]
  },
  {
   "cell_type": "code",
   "execution_count": null,
   "metadata": {},
   "outputs": [],
   "source": [
    "Y_train.shape"
   ]
  },
  {
   "cell_type": "code",
   "execution_count": null,
   "metadata": {},
   "outputs": [],
   "source": [
    "# reshape input to be [samples, time steps, features]\n",
    "X_train = np.reshape(X_train, (X_train.shape[0], 1, X_train.shape[1]))\n",
    "X_test = np.reshape(X_test, (X_test.shape[0], 1, X_test.shape[1]))"
   ]
  },
  {
   "cell_type": "markdown",
   "metadata": {},
   "source": [
    "### Model Architecture"
   ]
  },
  {
   "cell_type": "code",
   "execution_count": null,
   "metadata": {},
   "outputs": [],
   "source": [
    "X_train.shape"
   ]
  },
  {
   "cell_type": "code",
   "execution_count": null,
   "metadata": {},
   "outputs": [],
   "source": [
    "model = Sequential()\n",
    "model.add(LSTM(100, input_shape=(X_train.shape[1], X_train.shape[2])))\n",
    "model.add(Dropout(0.2))\n",
    "model.add(Dense(1))\n",
    "model.compile(loss='mean_squared_error', optimizer='adam')\n",
    "\n",
    "history = model.fit(X_train, Y_train, epochs=20, batch_size=70, validation_data=(X_test, Y_test), \n",
    "                    callbacks=[EarlyStopping(monitor='val_loss', patience=10)], verbose=1, shuffle=False)\n",
    "\n",
    "# Training Phase\n",
    "model.summary()"
   ]
  },
  {
   "cell_type": "code",
   "execution_count": null,
   "metadata": {},
   "outputs": [],
   "source": [
    "# make predictions\n",
    "train_predict = model.predict(X_train)\n",
    "test_predict = model.predict(X_test)\n",
    "# invert predictions\n",
    "train_predict = scaler.inverse_transform(train_predict)\n",
    "Y_train = scaler.inverse_transform([Y_train])\n",
    "test_predict = scaler.inverse_transform(test_predict)\n",
    "Y_test = scaler.inverse_transform([Y_test])\n",
    "\n",
    "print('Train Mean Absolute Error:', mean_absolute_error(Y_train[0], train_predict[:,0]))\n",
    "print('Train Root Mean Squared Error:',np.sqrt(mean_squared_error(Y_train[0], train_predict[:,0])))\n",
    "print('Test Mean Absolute Error:', mean_absolute_error(Y_test[0], test_predict[:,0]))\n",
    "print('Test Root Mean Squared Error:',np.sqrt(mean_squared_error(Y_test[0], test_predict[:,0])))"
   ]
  },
  {
   "cell_type": "code",
   "execution_count": null,
   "metadata": {},
   "outputs": [],
   "source": [
    "plt.figure(figsize=(8,4))\n",
    "plt.plot(history.history['loss'], label='Train Loss')\n",
    "plt.plot(history.history['val_loss'], label='Test Loss')\n",
    "plt.title('model loss')\n",
    "plt.ylabel('loss')\n",
    "plt.xlabel('epochs')\n",
    "plt.legend(loc='upper right')\n",
    "plt.show();"
   ]
  },
  {
   "cell_type": "code",
   "execution_count": null,
   "metadata": {},
   "outputs": [],
   "source": [
    "aa=[x for x in range(200)]\n",
    "plt.figure(figsize=(8,4))\n",
    "plt.plot(aa, Y_test[0][:200], marker='.', label=\"actual\")\n",
    "plt.plot(aa, test_predict[:,0][:200], 'r', label=\"prediction\")\n",
    "# plt.tick_params(left=False, labelleft=True) #remove ticks\n",
    "plt.tight_layout()\n",
    "sns.despine(top=True)\n",
    "plt.subplots_adjust(left=0.07)\n",
    "plt.ylabel('Global_active_power', size=15)\n",
    "plt.xlabel('Time step', size=15)\n",
    "plt.legend(fontsize=15)\n",
    "plt.show();"
   ]
  }
 ],
 "metadata": {
  "kernelspec": {
   "display_name": "Python 3",
   "language": "python",
   "name": "python3"
  },
  "language_info": {
   "codemirror_mode": {
    "name": "ipython",
    "version": 3
   },
   "file_extension": ".py",
   "mimetype": "text/x-python",
   "name": "python",
   "nbconvert_exporter": "python",
   "pygments_lexer": "ipython3",
   "version": "3.7.5"
  },
  "toc": {
   "base_numbering": 1,
   "nav_menu": {},
   "number_sections": true,
   "sideBar": true,
   "skip_h1_title": false,
   "title_cell": "Table of Contents",
   "title_sidebar": "Contents",
   "toc_cell": false,
   "toc_position": {},
   "toc_section_display": true,
   "toc_window_display": false
  }
 },
 "nbformat": 4,
 "nbformat_minor": 2
}
